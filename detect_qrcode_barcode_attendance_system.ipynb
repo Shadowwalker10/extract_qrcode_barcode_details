{
 "cells": [
  {
   "cell_type": "code",
   "execution_count": 3,
   "id": "c6ebf93f",
   "metadata": {},
   "outputs": [],
   "source": [
    "import numpy as np\n",
    "import cv2\n",
    "from pyzbar.pyzbar import decode"
   ]
  },
  {
   "cell_type": "markdown",
   "id": "4a58a406",
   "metadata": {},
   "source": [
    "The pyzbar decode method gives output as :\n",
    "\n",
    "[Decoded(data=b'http://en.m.wikipedia.org', type='QRCODE', rect=Rect(left=255, top=128, width=176, height=183), polygon=[Point(x=255, y=305), Point(x=430, y=311), Point(x=431, y=143), Point(x=263, y=128)], quality=1, orientation='UP')]"
   ]
  },
  {
   "cell_type": "markdown",
   "id": "87aaf69d",
   "metadata": {},
   "source": [
    "data: data in qrcode/ barcode\n",
    "\n",
    "type: type of the code, qrcode/ barcode\n",
    "\n",
    "rect: co-ordinates of rectangular bounding box around the code\n",
    "\n",
    "polygon: polygonal co-ordinates around the code\n"
   ]
  },
  {
   "cell_type": "code",
   "execution_count": 9,
   "id": "c0fcf336",
   "metadata": {},
   "outputs": [],
   "source": [
    "cap = cv2.VideoCapture(0)\n",
    "cap.set(3,640)\n",
    "cap.set(4,480)\n",
    "\n",
    "while True:\n",
    "    success,img = cap.read()\n",
    "    #This library can detect multiple codes at a time, so we want to use for loop\n",
    "    for codes in decode(img):\n",
    "    \n",
    "        #Draw polygon around the code. We selected polygon instead of rectangle because polygon can \n",
    "        #fit to codes in any orientations\n",
    "\n",
    "        poly_pts = np.array([codes.polygon],int).reshape(-1,1,2)\n",
    "        cv2.polylines(img,[poly_pts],True,(255,0,255),5)\n",
    "\n",
    "\n",
    "        #Similar we want to display the text/ value in the code above it. However, we don't \n",
    "        #want it to rotate based on orientation of the code. so, using rectangle\n",
    "\n",
    "        txt = codes.data.decode('utf-8')\n",
    "        txt_position = codes.rect\n",
    "        \n",
    "        #The rect co-ordinates are arranged as left, top, width, height\n",
    "    \n",
    "        cv2.putText(img,txt,[txt_position[0],txt_position[1]],cv2.FONT_HERSHEY_SIMPLEX,\n",
    "                   0.5,(255,225,125),2)\n",
    "        \n",
    "        \n",
    "        ##To turn this into an attendance case, we can create a file with authorised\n",
    "        ##people details that's included in the code\n",
    "        \n",
    "        ##Create a list of the details and check if txt detected above is in the list\n",
    "        \n",
    "        ##If present: authorized else un-authorized\n",
    "        \n",
    "        \n",
    "    \n",
    "    cv2.imshow(\"Reader\",img)\n",
    "    if cv2.waitKey(1) & 0xFF ==ord('q'):\n",
    "        break\n",
    "cap.release()\n",
    "cv2.destroyAllWindows()"
   ]
  },
  {
   "cell_type": "code",
   "execution_count": null,
   "id": "e4ef059f",
   "metadata": {},
   "outputs": [],
   "source": []
  }
 ],
 "metadata": {
  "kernelspec": {
   "display_name": "Python 3 (ipykernel)",
   "language": "python",
   "name": "python3"
  },
  "language_info": {
   "codemirror_mode": {
    "name": "ipython",
    "version": 3
   },
   "file_extension": ".py",
   "mimetype": "text/x-python",
   "name": "python",
   "nbconvert_exporter": "python",
   "pygments_lexer": "ipython3",
   "version": "3.9.7"
  }
 },
 "nbformat": 4,
 "nbformat_minor": 5
}
